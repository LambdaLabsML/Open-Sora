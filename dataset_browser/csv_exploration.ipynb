{
 "cells": [
  {
   "cell_type": "code",
   "outputs": [],
   "source": [
    "from pathlib import Path\n",
    "\n",
    "import pandas as pd"
   ],
   "metadata": {
    "collapsed": false,
    "ExecuteTime": {
     "end_time": "2024-05-29T18:37:27.698510Z",
     "start_time": "2024-05-29T18:37:27.443777Z"
    }
   },
   "id": "7d3b7017b7f501bf",
   "execution_count": 4
  },
  {
   "cell_type": "code",
   "execution_count": 11,
   "id": "initial_id",
   "metadata": {
    "collapsed": true,
    "ExecuteTime": {
     "end_time": "2024-05-29T18:41:21.901993Z",
     "start_time": "2024-05-29T18:41:21.899173Z"
    }
   },
   "outputs": [],
   "source": [
    "csv_meta_dir = Path('/home/jeremy/Videos/sora/lego/test-script1/meta/')"
   ]
  },
  {
   "cell_type": "code",
   "outputs": [
    {
     "name": "stdout",
     "output_type": "stream",
     "text": [
      " - /home/jeremy/Videos/sora/lego/test-script1/meta/meta_clips_info_fmin1_aes.csv, len: 108\n",
      "/home/jeremy/Videos/sora/lego/test-script1/clips/Lego City Metro-GdbsHTDOW6k_scene-74.mp4\n",
      "Index(['path', 'num_frames', 'height', 'width', 'aspect_ratio', 'fps',\n",
      "       'resolution', 'aes'],\n",
      "      dtype='object')\n",
      " - /home/jeremy/Videos/sora/lego/test-script1/meta/meta_clips.csv, len: 137\n",
      "/home/jeremy/Videos/sora/lego/test-script1/clips/Lego City Metro-GdbsHTDOW6k_scene-74.mp4\n",
      "Index(['path'], dtype='object')\n",
      " - /home/jeremy/Videos/sora/lego/test-script1/meta/meta.csv, len: 4\n",
      "/home/jeremy/Videos/sora/lego/test-script1/video/Lego Sports Car MOC-7FbhPB971gc.mkv\n",
      "Index(['path'], dtype='object')\n",
      " - /home/jeremy/Videos/sora/lego/test-script1/meta/meta_clips_info_fmin1_aes_part1.csv, len: 54\n",
      "/home/jeremy/Videos/sora/lego/test-script1/clips/Lego City Metro-GdbsHTDOW6k_scene-74.mp4\n",
      "Index(['path', 'num_frames', 'height', 'width', 'aspect_ratio', 'fps',\n",
      "       'resolution', 'aes'],\n",
      "      dtype='object')\n",
      " - /home/jeremy/Videos/sora/lego/test-script1/meta/meta_clips_info_fmin1_aes_aesmin5.0.csv, len: 4\n",
      "/home/jeremy/Videos/sora/lego/test-script1/clips/Lego City Street Sweeper 60249-0syCGLNl6XA_scene-11.mp4\n",
      "Index(['path', 'num_frames', 'height', 'width', 'aspect_ratio', 'fps',\n",
      "       'resolution', 'aes'],\n",
      "      dtype='object')\n",
      " - /home/jeremy/Videos/sora/lego/test-script1/meta/meta_clips_info_fmin1.csv, len: 107\n",
      "/home/jeremy/Videos/sora/lego/test-script1/clips/Lego City Metro-GdbsHTDOW6k_scene-74.mp4\n",
      "Index(['path', 'num_frames', 'height', 'width', 'aspect_ratio', 'fps',\n",
      "       'resolution'],\n",
      "      dtype='object')\n",
      " - /home/jeremy/Videos/sora/lego/test-script1/meta/meta_clips_info_fmin1_aes_part0.csv, len: 54\n",
      "/home/jeremy/Videos/sora/lego/test-script1/clips/Lego City Metro-GdbsHTDOW6k_scene-74.mp4\n",
      "Index(['path', 'num_frames', 'height', 'width', 'aspect_ratio', 'fps',\n",
      "       'resolution', 'aes'],\n",
      "      dtype='object')\n",
      " - /home/jeremy/Videos/sora/lego/test-script1/meta/meta_clips_info_fmin1_aes_aesmin5.0_caption.csv, len: 4\n",
      "/home/jeremy/Videos/sora/lego/test-script1/clips/Lego City Street Sweeper 60249-0syCGLNl6XA_scene-11.mp4\n",
      "Index(['video', 'text'], dtype='object')\n",
      " - /home/jeremy/Videos/sora/lego/test-script1/meta/meta_clips_caption_cleaned.csv, len: 4\n",
      "/home/jeremy/Videos/sora/lego/test-script1/clips/Lego City Street Sweeper 60249-0syCGLNl6XA_scene-11.mp4\n",
      "Index(['video', 'text'], dtype='object')\n"
     ]
    }
   ],
   "source": [
    "for csv_file in csv_meta_dir.glob('*.csv'):\n",
    "    if csv_file.name in ['meta_info_fmin1_timestamp.csv', 'meta_info_fmin1.csv']:\n",
    "        continue\n",
    "    df = pd.read_csv(csv_file)\n",
    "    print(f' - {csv_file}, len: {len(df)}')\n",
    "    for key in ['path', 'video', 'image']:\n",
    "        path = pd.read_csv(csv_file).iloc[0].get(key)\n",
    "        if path is not None:\n",
    "            break\n",
    "    print(path)\n",
    "    print(df.columns)\n",
    "    # path = pd.read_csv(csv_file).iloc[0].get('path')\n",
    "    # print()\n",
    "    # print(pd.read_csv(csv_file).iloc[0])"
   ],
   "metadata": {
    "collapsed": false,
    "ExecuteTime": {
     "end_time": "2024-05-29T20:47:49.871571Z",
     "start_time": "2024-05-29T20:47:49.850080Z"
    }
   },
   "id": "8c282ebf409557cd",
   "execution_count": 22
  },
  {
   "cell_type": "code",
   "outputs": [
    {
     "data": {
      "text/plain": "                                                  path  num_frames  height  \\\n0    /home/jeremy/Videos/sora/lego/test-script1/cli...        90.0   720.0   \n1    /home/jeremy/Videos/sora/lego/test-script1/cli...        30.0   720.0   \n2    /home/jeremy/Videos/sora/lego/test-script1/cli...        30.0   720.0   \n4    /home/jeremy/Videos/sora/lego/test-script1/cli...        30.0   720.0   \n6    /home/jeremy/Videos/sora/lego/test-script1/cli...        30.0   720.0   \n..                                                 ...         ...     ...   \n132  /home/jeremy/Videos/sora/lego/test-script1/cli...       120.0  1080.0   \n134  /home/jeremy/Videos/sora/lego/test-script1/cli...        30.0  1080.0   \n135  /home/jeremy/Videos/sora/lego/test-script1/cli...        90.0  1080.0   \n136  /home/jeremy/Videos/sora/lego/test-script1/cli...        90.0  1080.0   \n137  /home/jeremy/Videos/sora/lego/test-script1/cli...       360.0  1080.0   \n\n      width  aspect_ratio       fps  resolution       aes text  \n0    1280.0        0.5625  29.97003    921600.0  3.927231  NaN  \n1    1280.0        0.5625  29.97003    921600.0  3.690383  NaN  \n2    1280.0        0.5625  29.97003    921600.0  3.476344  NaN  \n4    1280.0        0.5625  29.97003    921600.0  3.933203  NaN  \n6    1280.0        0.5625  29.97003    921600.0  3.960823  NaN  \n..      ...           ...       ...         ...       ...  ...  \n132  1920.0        0.5625  29.97003   2073600.0  4.636474  NaN  \n134  1920.0        0.5625  29.97003   2073600.0  4.749244  NaN  \n135  1920.0        0.5625  29.97003   2073600.0  4.723180  NaN  \n136  1920.0        0.5625  29.97003   2073600.0  4.821575  NaN  \n137  1920.0        0.5625  29.97003   2073600.0  4.943187  NaN  \n\n[108 rows x 9 columns]",
      "text/html": "<div>\n<style scoped>\n    .dataframe tbody tr th:only-of-type {\n        vertical-align: middle;\n    }\n\n    .dataframe tbody tr th {\n        vertical-align: top;\n    }\n\n    .dataframe thead th {\n        text-align: right;\n    }\n</style>\n<table border=\"1\" class=\"dataframe\">\n  <thead>\n    <tr style=\"text-align: right;\">\n      <th></th>\n      <th>path</th>\n      <th>num_frames</th>\n      <th>height</th>\n      <th>width</th>\n      <th>aspect_ratio</th>\n      <th>fps</th>\n      <th>resolution</th>\n      <th>aes</th>\n      <th>text</th>\n    </tr>\n  </thead>\n  <tbody>\n    <tr>\n      <th>0</th>\n      <td>/home/jeremy/Videos/sora/lego/test-script1/cli...</td>\n      <td>90.0</td>\n      <td>720.0</td>\n      <td>1280.0</td>\n      <td>0.5625</td>\n      <td>29.97003</td>\n      <td>921600.0</td>\n      <td>3.927231</td>\n      <td>NaN</td>\n    </tr>\n    <tr>\n      <th>1</th>\n      <td>/home/jeremy/Videos/sora/lego/test-script1/cli...</td>\n      <td>30.0</td>\n      <td>720.0</td>\n      <td>1280.0</td>\n      <td>0.5625</td>\n      <td>29.97003</td>\n      <td>921600.0</td>\n      <td>3.690383</td>\n      <td>NaN</td>\n    </tr>\n    <tr>\n      <th>2</th>\n      <td>/home/jeremy/Videos/sora/lego/test-script1/cli...</td>\n      <td>30.0</td>\n      <td>720.0</td>\n      <td>1280.0</td>\n      <td>0.5625</td>\n      <td>29.97003</td>\n      <td>921600.0</td>\n      <td>3.476344</td>\n      <td>NaN</td>\n    </tr>\n    <tr>\n      <th>4</th>\n      <td>/home/jeremy/Videos/sora/lego/test-script1/cli...</td>\n      <td>30.0</td>\n      <td>720.0</td>\n      <td>1280.0</td>\n      <td>0.5625</td>\n      <td>29.97003</td>\n      <td>921600.0</td>\n      <td>3.933203</td>\n      <td>NaN</td>\n    </tr>\n    <tr>\n      <th>6</th>\n      <td>/home/jeremy/Videos/sora/lego/test-script1/cli...</td>\n      <td>30.0</td>\n      <td>720.0</td>\n      <td>1280.0</td>\n      <td>0.5625</td>\n      <td>29.97003</td>\n      <td>921600.0</td>\n      <td>3.960823</td>\n      <td>NaN</td>\n    </tr>\n    <tr>\n      <th>...</th>\n      <td>...</td>\n      <td>...</td>\n      <td>...</td>\n      <td>...</td>\n      <td>...</td>\n      <td>...</td>\n      <td>...</td>\n      <td>...</td>\n      <td>...</td>\n    </tr>\n    <tr>\n      <th>132</th>\n      <td>/home/jeremy/Videos/sora/lego/test-script1/cli...</td>\n      <td>120.0</td>\n      <td>1080.0</td>\n      <td>1920.0</td>\n      <td>0.5625</td>\n      <td>29.97003</td>\n      <td>2073600.0</td>\n      <td>4.636474</td>\n      <td>NaN</td>\n    </tr>\n    <tr>\n      <th>134</th>\n      <td>/home/jeremy/Videos/sora/lego/test-script1/cli...</td>\n      <td>30.0</td>\n      <td>1080.0</td>\n      <td>1920.0</td>\n      <td>0.5625</td>\n      <td>29.97003</td>\n      <td>2073600.0</td>\n      <td>4.749244</td>\n      <td>NaN</td>\n    </tr>\n    <tr>\n      <th>135</th>\n      <td>/home/jeremy/Videos/sora/lego/test-script1/cli...</td>\n      <td>90.0</td>\n      <td>1080.0</td>\n      <td>1920.0</td>\n      <td>0.5625</td>\n      <td>29.97003</td>\n      <td>2073600.0</td>\n      <td>4.723180</td>\n      <td>NaN</td>\n    </tr>\n    <tr>\n      <th>136</th>\n      <td>/home/jeremy/Videos/sora/lego/test-script1/cli...</td>\n      <td>90.0</td>\n      <td>1080.0</td>\n      <td>1920.0</td>\n      <td>0.5625</td>\n      <td>29.97003</td>\n      <td>2073600.0</td>\n      <td>4.821575</td>\n      <td>NaN</td>\n    </tr>\n    <tr>\n      <th>137</th>\n      <td>/home/jeremy/Videos/sora/lego/test-script1/cli...</td>\n      <td>360.0</td>\n      <td>1080.0</td>\n      <td>1920.0</td>\n      <td>0.5625</td>\n      <td>29.97003</td>\n      <td>2073600.0</td>\n      <td>4.943187</td>\n      <td>NaN</td>\n    </tr>\n  </tbody>\n</table>\n<p>108 rows × 9 columns</p>\n</div>"
     },
     "execution_count": 39,
     "metadata": {},
     "output_type": "execute_result"
    }
   ],
   "source": [
    "df = pd.DataFrame()\n",
    "for csv_file in csv_meta_dir.glob('*.csv'):\n",
    "    if csv_file.name in ['meta_info_fmin1_timestamp.csv', 'meta_info_fmin1.csv']:\n",
    "        continue\n",
    "    df2 = pd.read_csv(csv_file)\n",
    "    df2.rename(columns={'video': 'path'}, inplace=True)\n",
    "    if len(df) == 0:\n",
    "        df = df2\n",
    "    else:\n",
    "        df = pd.merge(df, df2, on='path', how='outer', suffixes=('', '_duplicate'))\n",
    "        # Drop duplicate columns\n",
    "        for column in df.columns:\n",
    "            if column.endswith('_duplicate'):\n",
    "                df.drop(columns=[column], inplace=True)\n",
    "df.dropna(subset=['num_frames'], inplace=True)\n",
    "df"
   ],
   "metadata": {
    "collapsed": false,
    "ExecuteTime": {
     "end_time": "2024-05-29T21:17:05.974345Z",
     "start_time": "2024-05-29T21:17:05.929495Z"
    }
   },
   "id": "1e270a82e2434274",
   "execution_count": 39
  },
  {
   "cell_type": "code",
   "outputs": [
    {
     "name": "stdout",
     "output_type": "stream",
     "text": [
      " - /home/jeremy/Videos/sora/lego/test-script1/meta/meta_clips.csv, len: 137, row:                                                   path\n",
      "134  /home/jeremy/Videos/sora/lego/test-script1/cli...\n",
      "                                                  path\n",
      "134  /home/jeremy/Videos/sora/lego/test-script1/cli...\n"
     ]
    }
   ],
   "source": [
    "for csv_file in csv_meta_dir.glob('*.csv'):\n",
    "    if csv_file.name in ['meta_info_fmin1_timestamp.csv', 'meta_info_fmin1.csv']:\n",
    "        continue\n",
    "    df2 = pd.read_csv(csv_file)\n",
    "    df2.rename(columns={'video': 'path'}, inplace=True)\n",
    "    # find row with '/home/jeremy/Videos/sora/lego/test-script1/clips/Lego City Metro-GdbsHTDOW6k_scene-11.mp4' in the path column\n",
    "    row = df2[df2['path'] == '/home/jeremy/Videos/sora/lego/test-script1/clips/Lego City Metro-GdbsHTDOW6k_scene-11.mp4']\n",
    "    if len(row) == 0:\n",
    "        continue\n",
    "    print(f' - {csv_file}, len: {len(df2)}, row: {row}')\n",
    "    print(row)"
   ],
   "metadata": {
    "collapsed": false,
    "ExecuteTime": {
     "end_time": "2024-05-29T21:15:59.120521Z",
     "start_time": "2024-05-29T21:15:59.102205Z"
    }
   },
   "id": "8828e5fb9142dfeb",
   "execution_count": 38
  },
  {
   "cell_type": "code",
   "outputs": [],
   "source": [],
   "metadata": {
    "collapsed": false
   },
   "id": "53b4edcd5e721318"
  }
 ],
 "metadata": {
  "kernelspec": {
   "display_name": "Python 3",
   "language": "python",
   "name": "python3"
  },
  "language_info": {
   "codemirror_mode": {
    "name": "ipython",
    "version": 2
   },
   "file_extension": ".py",
   "mimetype": "text/x-python",
   "name": "python",
   "nbconvert_exporter": "python",
   "pygments_lexer": "ipython2",
   "version": "2.7.6"
  }
 },
 "nbformat": 4,
 "nbformat_minor": 5
}
